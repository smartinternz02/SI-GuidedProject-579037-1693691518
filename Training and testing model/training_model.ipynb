{
 "cells": [
  {
   "cell_type": "markdown",
   "id": "89546999",
   "metadata": {},
   "source": [
    "<h1>Training the model</h1>"
   ]
  },
  {
   "cell_type": "code",
   "execution_count": null,
   "id": "a59b84a6",
   "metadata": {},
   "outputs": [],
   "source": []
  },
  {
   "cell_type": "code",
   "execution_count": 1,
   "id": "88625d74",
   "metadata": {},
   "outputs": [],
   "source": [
    "from tensorflow.keras.preprocessing.image import ImageDataGenerator\n"
   ]
  },
  {
   "cell_type": "code",
   "execution_count": 2,
   "id": "4ae3ae9f",
   "metadata": {},
   "outputs": [],
   "source": [
    "# Training Datagen\n",
    "train_datagen = ImageDataGenerator(rescale=1/255,zoom_range=0.2,horizontal_flip=True,vertical_flip=False)\n",
    "# Testing Datagen\n",
    "test_datagen = ImageDataGenerator(rescale=1/255)"
   ]
  },
  {
   "cell_type": "code",
   "execution_count": 3,
   "id": "4d3a466d",
   "metadata": {},
   "outputs": [
    {
     "name": "stdout",
     "output_type": "stream",
     "text": [
      "Found 15130 images belonging to 9 classes.\n",
      "Found 2250 images belonging to 9 classes.\n"
     ]
    }
   ],
   "source": [
    "# Training Dataset\n",
    "x_train=train_datagen.flow_from_directory(r'C:/Project/datasetai/training_set',target_size=(64,64),\n",
    "                                          class_mode='categorical',batch_size=32)\n",
    "# Testing Dataset\n",
    "x_test=test_datagen.flow_from_directory(r'C:/Project/datasetai/test_set',target_size=(64,64),\n",
    "                                        class_mode='categorical',batch_size=32)\n",
    "# Testing Dataset"
   ]
  },
  {
   "cell_type": "code",
   "execution_count": 4,
   "id": "a89fd3d0",
   "metadata": {},
   "outputs": [
    {
     "name": "stdout",
     "output_type": "stream",
     "text": [
      "Len x-train :  473\n",
      "Len x-test :  71\n"
     ]
    }
   ],
   "source": [
    "print(\"Len x-train : \", len(x_train))\n",
    "print(\"Len x-test : \", len(x_test))"
   ]
  },
  {
   "cell_type": "code",
   "execution_count": 5,
   "id": "d76f3ce3",
   "metadata": {},
   "outputs": [
    {
     "data": {
      "text/plain": [
       "{'A': 0, 'B': 1, 'C': 2, 'D': 3, 'E': 4, 'F': 5, 'G': 6, 'H': 7, 'I': 8}"
      ]
     },
     "execution_count": 5,
     "metadata": {},
     "output_type": "execute_result"
    }
   ],
   "source": [
    "# The Class Indices in Training Dataset\n",
    "x_train.class_indices"
   ]
  },
  {
   "cell_type": "code",
   "execution_count": 6,
   "id": "15cfa3d7",
   "metadata": {},
   "outputs": [],
   "source": [
    "# Importing Libraries\n",
    "from tensorflow.keras.models import Sequential\n",
    "from tensorflow.keras.layers import Convolution2D,MaxPooling2D,Flatten,Dense"
   ]
  },
  {
   "cell_type": "code",
   "execution_count": 7,
   "id": "b9e2226e",
   "metadata": {},
   "outputs": [],
   "source": [
    "# Creating Model\n",
    "model=Sequential()"
   ]
  },
  {
   "cell_type": "code",
   "execution_count": 8,
   "id": "b140bd0d",
   "metadata": {},
   "outputs": [],
   "source": [
    "# Adding Layers\n",
    "model.add(Convolution2D(32,(3,3),activation='relu',input_shape=(64,64,3)))\n",
    "model.add(MaxPooling2D(pool_size=(2,2)))\n",
    "model.add(Flatten())\n",
    "\n",
    "# Adding Hidden Layers\n",
    "model.add(Dense(300,activation='relu'))\n",
    "model.add(Dense(150,activation='relu'))\n",
    "model.add(Dense(9,activation='softmax'))"
   ]
  },
  {
   "cell_type": "code",
   "execution_count": 9,
   "id": "376f672e",
   "metadata": {},
   "outputs": [],
   "source": [
    "# Compiling the Model\n",
    "model.compile(loss='categorical_crossentropy',optimizer='adam',metrics=['accuracy'])"
   ]
  },
  {
   "cell_type": "code",
   "execution_count": 10,
   "id": "296248c7",
   "metadata": {},
   "outputs": [
    {
     "name": "stderr",
     "output_type": "stream",
     "text": [
      "C:\\Users\\dines\\AppData\\Local\\Temp\\ipykernel_17620\\3631719067.py:2: UserWarning: `Model.fit_generator` is deprecated and will be removed in a future version. Please use `Model.fit`, which supports generators.\n",
      "  model.fit_generator(x_train,steps_per_epoch=len(x_train),epochs=120,validation_data=x_test,validation_steps=len(x_test))\n"
     ]
    },
    {
     "name": "stdout",
     "output_type": "stream",
     "text": [
      "Epoch 1/120\n",
      "473/473 [==============================] - 134s 280ms/step - loss: 0.2050 - accuracy: 0.9367 - val_loss: 0.2429 - val_accuracy: 0.9636\n",
      "Epoch 2/120\n",
      "473/473 [==============================] - 102s 216ms/step - loss: 0.0302 - accuracy: 0.9912 - val_loss: 0.2312 - val_accuracy: 0.9684\n",
      "Epoch 3/120\n",
      "473/473 [==============================] - 96s 203ms/step - loss: 0.0170 - accuracy: 0.9943 - val_loss: 0.3245 - val_accuracy: 0.9756\n",
      "Epoch 4/120\n",
      "473/473 [==============================] - 86s 183ms/step - loss: 0.0140 - accuracy: 0.9957 - val_loss: 0.3185 - val_accuracy: 0.9764\n",
      "Epoch 5/120\n",
      "473/473 [==============================] - 85s 179ms/step - loss: 0.0098 - accuracy: 0.9969 - val_loss: 0.3664 - val_accuracy: 0.9556\n",
      "Epoch 6/120\n",
      "473/473 [==============================] - 84s 178ms/step - loss: 0.0106 - accuracy: 0.9968 - val_loss: 0.2793 - val_accuracy: 0.9724\n",
      "Epoch 7/120\n",
      "473/473 [==============================] - 85s 180ms/step - loss: 0.0115 - accuracy: 0.9962 - val_loss: 0.4581 - val_accuracy: 0.9729\n",
      "Epoch 8/120\n",
      "473/473 [==============================] - 84s 177ms/step - loss: 0.0092 - accuracy: 0.9974 - val_loss: 0.4053 - val_accuracy: 0.9760\n",
      "Epoch 9/120\n",
      "473/473 [==============================] - 84s 177ms/step - loss: 0.0070 - accuracy: 0.9979 - val_loss: 0.4617 - val_accuracy: 0.9760\n",
      "Epoch 10/120\n",
      "473/473 [==============================] - 84s 178ms/step - loss: 0.0024 - accuracy: 0.9991 - val_loss: 0.4975 - val_accuracy: 0.9751\n",
      "Epoch 11/120\n",
      "473/473 [==============================] - 84s 178ms/step - loss: 0.0097 - accuracy: 0.9971 - val_loss: 0.3026 - val_accuracy: 0.9769\n",
      "Epoch 12/120\n",
      "473/473 [==============================] - 88s 185ms/step - loss: 0.0065 - accuracy: 0.9987 - val_loss: 0.3581 - val_accuracy: 0.9822\n",
      "Epoch 13/120\n",
      "473/473 [==============================] - 86s 183ms/step - loss: 0.0025 - accuracy: 0.9993 - val_loss: 0.6410 - val_accuracy: 0.9756\n",
      "Epoch 14/120\n",
      "473/473 [==============================] - 85s 179ms/step - loss: 0.0054 - accuracy: 0.9987 - val_loss: 0.3863 - val_accuracy: 0.9796\n",
      "Epoch 15/120\n",
      "473/473 [==============================] - 85s 181ms/step - loss: 0.0059 - accuracy: 0.9982 - val_loss: 0.4407 - val_accuracy: 0.9796\n",
      "Epoch 16/120\n",
      "473/473 [==============================] - 84s 178ms/step - loss: 0.0013 - accuracy: 0.9997 - val_loss: 0.4071 - val_accuracy: 0.9809\n",
      "Epoch 17/120\n",
      "473/473 [==============================] - 85s 180ms/step - loss: 0.0061 - accuracy: 0.9983 - val_loss: 0.4081 - val_accuracy: 0.9818\n",
      "Epoch 18/120\n",
      "473/473 [==============================] - 85s 181ms/step - loss: 0.0063 - accuracy: 0.9978 - val_loss: 0.4619 - val_accuracy: 0.9769\n",
      "Epoch 19/120\n",
      "473/473 [==============================] - 85s 180ms/step - loss: 0.0026 - accuracy: 0.9991 - val_loss: 0.4971 - val_accuracy: 0.9773\n",
      "Epoch 20/120\n",
      "473/473 [==============================] - 86s 181ms/step - loss: 0.0055 - accuracy: 0.9991 - val_loss: 0.4456 - val_accuracy: 0.9804\n",
      "Epoch 21/120\n",
      "473/473 [==============================] - 86s 181ms/step - loss: 0.0030 - accuracy: 0.9993 - val_loss: 0.3585 - val_accuracy: 0.9778\n",
      "Epoch 22/120\n",
      "473/473 [==============================] - 85s 180ms/step - loss: 0.0038 - accuracy: 0.9989 - val_loss: 0.4721 - val_accuracy: 0.9782\n",
      "Epoch 23/120\n",
      "473/473 [==============================] - 85s 179ms/step - loss: 0.0020 - accuracy: 0.9992 - val_loss: 0.4380 - val_accuracy: 0.9796\n",
      "Epoch 24/120\n",
      "473/473 [==============================] - 85s 180ms/step - loss: 0.0034 - accuracy: 0.9992 - val_loss: 0.5010 - val_accuracy: 0.9796\n",
      "Epoch 25/120\n",
      "473/473 [==============================] - 87s 183ms/step - loss: 2.3112e-04 - accuracy: 0.9999 - val_loss: 0.3477 - val_accuracy: 0.9827\n",
      "Epoch 26/120\n",
      "473/473 [==============================] - 85s 181ms/step - loss: 0.0021 - accuracy: 0.9995 - val_loss: 0.3503 - val_accuracy: 0.9827\n",
      "Epoch 27/120\n",
      "473/473 [==============================] - 85s 179ms/step - loss: 0.0041 - accuracy: 0.9989 - val_loss: 0.4661 - val_accuracy: 0.9791\n",
      "Epoch 28/120\n",
      "473/473 [==============================] - 85s 180ms/step - loss: 2.6754e-04 - accuracy: 0.9999 - val_loss: 0.5340 - val_accuracy: 0.9787\n",
      "Epoch 29/120\n",
      "473/473 [==============================] - 85s 180ms/step - loss: 0.0024 - accuracy: 0.9994 - val_loss: 0.5036 - val_accuracy: 0.9782\n",
      "Epoch 30/120\n",
      "473/473 [==============================] - 85s 179ms/step - loss: 5.0881e-04 - accuracy: 0.9999 - val_loss: 0.5224 - val_accuracy: 0.9782\n",
      "Epoch 31/120\n",
      "473/473 [==============================] - 84s 178ms/step - loss: 0.0020 - accuracy: 0.9995 - val_loss: 0.4384 - val_accuracy: 0.9782\n",
      "Epoch 32/120\n",
      "473/473 [==============================] - 85s 180ms/step - loss: 0.0060 - accuracy: 0.9987 - val_loss: 0.4149 - val_accuracy: 0.9791\n",
      "Epoch 33/120\n",
      "473/473 [==============================] - 84s 178ms/step - loss: 0.0031 - accuracy: 0.9993 - val_loss: 0.7724 - val_accuracy: 0.9778\n",
      "Epoch 34/120\n",
      "473/473 [==============================] - 84s 178ms/step - loss: 0.0069 - accuracy: 0.9984 - val_loss: 0.5883 - val_accuracy: 0.9796\n",
      "Epoch 35/120\n",
      "473/473 [==============================] - 84s 177ms/step - loss: 0.0027 - accuracy: 0.9995 - val_loss: 0.5299 - val_accuracy: 0.9787\n",
      "Epoch 36/120\n",
      "473/473 [==============================] - 87s 185ms/step - loss: 8.2390e-04 - accuracy: 0.9997 - val_loss: 0.5584 - val_accuracy: 0.9791\n",
      "Epoch 37/120\n",
      "473/473 [==============================] - 85s 179ms/step - loss: 4.3112e-04 - accuracy: 0.9998 - val_loss: 0.6985 - val_accuracy: 0.9791\n",
      "Epoch 38/120\n",
      "473/473 [==============================] - 87s 184ms/step - loss: 0.0019 - accuracy: 0.9993 - val_loss: 0.7827 - val_accuracy: 0.9791\n",
      "Epoch 39/120\n",
      "473/473 [==============================] - 84s 178ms/step - loss: 0.0020 - accuracy: 0.9995 - val_loss: 0.8378 - val_accuracy: 0.9782\n",
      "Epoch 40/120\n",
      "473/473 [==============================] - 84s 178ms/step - loss: 6.5178e-04 - accuracy: 0.9998 - val_loss: 0.8908 - val_accuracy: 0.9782\n",
      "Epoch 41/120\n",
      "473/473 [==============================] - 84s 178ms/step - loss: 1.3975e-05 - accuracy: 1.0000 - val_loss: 0.9185 - val_accuracy: 0.9782\n",
      "Epoch 42/120\n",
      "473/473 [==============================] - 84s 177ms/step - loss: 0.0047 - accuracy: 0.9989 - val_loss: 1.0259 - val_accuracy: 0.9729\n",
      "Epoch 43/120\n",
      "473/473 [==============================] - 88s 186ms/step - loss: 0.0018 - accuracy: 0.9998 - val_loss: 1.4636 - val_accuracy: 0.9742\n",
      "Epoch 44/120\n",
      "473/473 [==============================] - 84s 178ms/step - loss: 0.0088 - accuracy: 0.9985 - val_loss: 1.1958 - val_accuracy: 0.9760\n",
      "Epoch 45/120\n",
      "473/473 [==============================] - 84s 178ms/step - loss: 0.0011 - accuracy: 0.9997 - val_loss: 1.1126 - val_accuracy: 0.9782\n",
      "Epoch 46/120\n",
      "473/473 [==============================] - 86s 181ms/step - loss: 0.0026 - accuracy: 0.9991 - val_loss: 1.2227 - val_accuracy: 0.9760\n",
      "Epoch 47/120\n",
      "473/473 [==============================] - 82s 174ms/step - loss: 0.0046 - accuracy: 0.9991 - val_loss: 1.1890 - val_accuracy: 0.9764\n",
      "Epoch 48/120\n",
      "473/473 [==============================] - 84s 178ms/step - loss: 9.1854e-04 - accuracy: 0.9997 - val_loss: 1.2468 - val_accuracy: 0.9778\n",
      "Epoch 49/120\n",
      "473/473 [==============================] - 82s 174ms/step - loss: 0.0038 - accuracy: 0.9991 - val_loss: 1.3929 - val_accuracy: 0.9778\n",
      "Epoch 50/120\n",
      "473/473 [==============================] - 84s 177ms/step - loss: 0.0034 - accuracy: 0.9994 - val_loss: 1.1461 - val_accuracy: 0.9800\n",
      "Epoch 51/120\n",
      "473/473 [==============================] - 83s 176ms/step - loss: 1.7411e-04 - accuracy: 0.9999 - val_loss: 1.1804 - val_accuracy: 0.9800\n",
      "Epoch 52/120\n",
      "473/473 [==============================] - 83s 175ms/step - loss: 0.0038 - accuracy: 0.9993 - val_loss: 1.3210 - val_accuracy: 0.9782\n",
      "Epoch 53/120\n",
      "473/473 [==============================] - 83s 176ms/step - loss: 0.0012 - accuracy: 0.9997 - val_loss: 1.0853 - val_accuracy: 0.9791\n",
      "Epoch 54/120\n",
      "473/473 [==============================] - 83s 176ms/step - loss: 2.8646e-04 - accuracy: 0.9999 - val_loss: 1.1756 - val_accuracy: 0.9791\n",
      "Epoch 55/120\n",
      "473/473 [==============================] - 83s 175ms/step - loss: 6.8403e-06 - accuracy: 1.0000 - val_loss: 1.1852 - val_accuracy: 0.9791\n",
      "Epoch 56/120\n",
      "473/473 [==============================] - 83s 175ms/step - loss: 3.6762e-05 - accuracy: 1.0000 - val_loss: 1.4900 - val_accuracy: 0.9782\n",
      "Epoch 57/120\n",
      "473/473 [==============================] - 82s 174ms/step - loss: 0.0049 - accuracy: 0.9989 - val_loss: 1.8663 - val_accuracy: 0.9764\n",
      "Epoch 58/120\n",
      "473/473 [==============================] - 82s 174ms/step - loss: 0.0024 - accuracy: 0.9992 - val_loss: 1.8416 - val_accuracy: 0.9769\n",
      "Epoch 59/120\n",
      "473/473 [==============================] - 83s 175ms/step - loss: 0.0025 - accuracy: 0.9995 - val_loss: 2.1634 - val_accuracy: 0.9769\n",
      "Epoch 60/120\n",
      "473/473 [==============================] - 83s 175ms/step - loss: 0.0025 - accuracy: 0.9995 - val_loss: 2.0745 - val_accuracy: 0.9778\n",
      "Epoch 61/120\n",
      "473/473 [==============================] - 83s 175ms/step - loss: 0.0012 - accuracy: 0.9997 - val_loss: 1.7833 - val_accuracy: 0.9778\n",
      "Epoch 62/120\n",
      "473/473 [==============================] - 82s 173ms/step - loss: 6.9360e-04 - accuracy: 0.9998 - val_loss: 1.9087 - val_accuracy: 0.9778\n",
      "Epoch 63/120\n",
      "473/473 [==============================] - 82s 172ms/step - loss: 0.0027 - accuracy: 0.9997 - val_loss: 1.1091 - val_accuracy: 0.9787\n",
      "Epoch 64/120\n",
      "473/473 [==============================] - 82s 173ms/step - loss: 0.0026 - accuracy: 0.9995 - val_loss: 2.0555 - val_accuracy: 0.9782\n",
      "Epoch 65/120\n",
      "473/473 [==============================] - 82s 173ms/step - loss: 0.0102 - accuracy: 0.9989 - val_loss: 2.1767 - val_accuracy: 0.9773\n",
      "Epoch 66/120\n",
      "473/473 [==============================] - 82s 173ms/step - loss: 0.0024 - accuracy: 0.9995 - val_loss: 1.8868 - val_accuracy: 0.9764\n",
      "Epoch 67/120\n",
      "473/473 [==============================] - 82s 173ms/step - loss: 8.1353e-04 - accuracy: 0.9997 - val_loss: 2.1809 - val_accuracy: 0.9738\n",
      "Epoch 68/120\n",
      "473/473 [==============================] - 82s 172ms/step - loss: 0.0022 - accuracy: 0.9997 - val_loss: 1.9345 - val_accuracy: 0.9738\n",
      "Epoch 69/120\n",
      "473/473 [==============================] - 82s 173ms/step - loss: 0.0040 - accuracy: 0.9994 - val_loss: 2.0402 - val_accuracy: 0.9747\n",
      "Epoch 70/120\n",
      "473/473 [==============================] - 82s 172ms/step - loss: 6.9844e-04 - accuracy: 0.9998 - val_loss: 2.2613 - val_accuracy: 0.9769\n",
      "Epoch 71/120\n",
      "473/473 [==============================] - 82s 173ms/step - loss: 2.3803e-04 - accuracy: 0.9999 - val_loss: 2.2555 - val_accuracy: 0.9778\n",
      "Epoch 72/120\n",
      "473/473 [==============================] - 82s 173ms/step - loss: 0.0016 - accuracy: 0.9997 - val_loss: 1.5773 - val_accuracy: 0.9751\n",
      "Epoch 73/120\n",
      "473/473 [==============================] - 82s 173ms/step - loss: 1.9702e-04 - accuracy: 0.9999 - val_loss: 1.7345 - val_accuracy: 0.9778\n",
      "Epoch 74/120\n",
      "473/473 [==============================] - 82s 172ms/step - loss: 0.0012 - accuracy: 0.9999 - val_loss: 1.8452 - val_accuracy: 0.9773\n",
      "Epoch 75/120\n",
      "473/473 [==============================] - 82s 173ms/step - loss: 0.0022 - accuracy: 0.9995 - val_loss: 1.9470 - val_accuracy: 0.9756\n",
      "Epoch 76/120\n",
      "473/473 [==============================] - 82s 172ms/step - loss: 0.0111 - accuracy: 0.9983 - val_loss: 2.0911 - val_accuracy: 0.9773\n",
      "Epoch 77/120\n",
      "473/473 [==============================] - 82s 173ms/step - loss: 0.0020 - accuracy: 0.9997 - val_loss: 2.1924 - val_accuracy: 0.9778\n",
      "Epoch 78/120\n",
      "473/473 [==============================] - 81s 172ms/step - loss: 0.0017 - accuracy: 0.9995 - val_loss: 2.2801 - val_accuracy: 0.9756\n",
      "Epoch 79/120\n",
      "473/473 [==============================] - 82s 173ms/step - loss: 4.5748e-04 - accuracy: 0.9999 - val_loss: 2.3526 - val_accuracy: 0.9773\n",
      "Epoch 80/120\n",
      "473/473 [==============================] - 82s 173ms/step - loss: 0.0040 - accuracy: 0.9993 - val_loss: 2.2830 - val_accuracy: 0.9769\n",
      "Epoch 81/120\n",
      "473/473 [==============================] - 82s 173ms/step - loss: 1.3595e-04 - accuracy: 0.9999 - val_loss: 2.3988 - val_accuracy: 0.9769\n",
      "Epoch 82/120\n",
      "473/473 [==============================] - 82s 173ms/step - loss: 0.0013 - accuracy: 0.9998 - val_loss: 2.4035 - val_accuracy: 0.9711\n",
      "Epoch 83/120\n",
      "473/473 [==============================] - 83s 175ms/step - loss: 3.9100e-04 - accuracy: 0.9999 - val_loss: 2.2994 - val_accuracy: 0.9764\n",
      "Epoch 84/120\n",
      "473/473 [==============================] - 82s 173ms/step - loss: 1.4998e-05 - accuracy: 1.0000 - val_loss: 2.2335 - val_accuracy: 0.9769\n",
      "Epoch 85/120\n",
      "473/473 [==============================] - 82s 172ms/step - loss: 0.0051 - accuracy: 0.9995 - val_loss: 2.5845 - val_accuracy: 0.9769\n",
      "Epoch 86/120\n",
      "473/473 [==============================] - 82s 173ms/step - loss: 0.0010 - accuracy: 0.9999 - val_loss: 2.3562 - val_accuracy: 0.9733\n",
      "Epoch 87/120\n",
      "473/473 [==============================] - 82s 173ms/step - loss: 0.0025 - accuracy: 0.9998 - val_loss: 2.4602 - val_accuracy: 0.9773\n",
      "Epoch 88/120\n",
      "473/473 [==============================] - 82s 172ms/step - loss: 0.0020 - accuracy: 0.9997 - val_loss: 1.8796 - val_accuracy: 0.9778\n",
      "Epoch 89/120\n",
      "473/473 [==============================] - 82s 173ms/step - loss: 5.9492e-04 - accuracy: 0.9999 - val_loss: 2.0449 - val_accuracy: 0.9778\n",
      "Epoch 90/120\n",
      "473/473 [==============================] - 82s 173ms/step - loss: 0.0025 - accuracy: 0.9997 - val_loss: 1.9903 - val_accuracy: 0.9773\n",
      "Epoch 91/120\n",
      "473/473 [==============================] - 82s 174ms/step - loss: 8.9915e-05 - accuracy: 1.0000 - val_loss: 2.1710 - val_accuracy: 0.9773\n",
      "Epoch 92/120\n",
      "473/473 [==============================] - 84s 177ms/step - loss: 1.4894e-05 - accuracy: 1.0000 - val_loss: 2.2238 - val_accuracy: 0.9742\n",
      "Epoch 93/120\n",
      "473/473 [==============================] - 82s 173ms/step - loss: 6.8352e-05 - accuracy: 0.9999 - val_loss: 2.1703 - val_accuracy: 0.9760\n",
      "Epoch 94/120\n",
      "473/473 [==============================] - 82s 173ms/step - loss: 1.1206e-04 - accuracy: 0.9999 - val_loss: 1.8884 - val_accuracy: 0.9778\n",
      "Epoch 95/120\n",
      "473/473 [==============================] - 85s 180ms/step - loss: 8.2200e-07 - accuracy: 1.0000 - val_loss: 2.0064 - val_accuracy: 0.9778\n",
      "Epoch 96/120\n",
      "473/473 [==============================] - 82s 172ms/step - loss: 1.4379e-04 - accuracy: 0.9999 - val_loss: 2.5542 - val_accuracy: 0.9773\n",
      "Epoch 97/120\n",
      "473/473 [==============================] - 82s 173ms/step - loss: 0.0071 - accuracy: 0.9992 - val_loss: 1.8770 - val_accuracy: 0.9787\n",
      "Epoch 98/120\n",
      "473/473 [==============================] - 82s 172ms/step - loss: 0.0020 - accuracy: 0.9996 - val_loss: 1.4700 - val_accuracy: 0.9791\n",
      "Epoch 99/120\n",
      "473/473 [==============================] - 82s 173ms/step - loss: 0.0035 - accuracy: 0.9994 - val_loss: 1.1879 - val_accuracy: 0.9804\n",
      "Epoch 100/120\n",
      "473/473 [==============================] - 81s 172ms/step - loss: 0.0055 - accuracy: 0.9993 - val_loss: 1.2328 - val_accuracy: 0.9804\n",
      "Epoch 101/120\n",
      "473/473 [==============================] - 82s 172ms/step - loss: 4.4354e-04 - accuracy: 0.9999 - val_loss: 1.4545 - val_accuracy: 0.9796\n",
      "Epoch 102/120\n",
      "473/473 [==============================] - 82s 173ms/step - loss: 1.5715e-06 - accuracy: 1.0000 - val_loss: 1.4966 - val_accuracy: 0.9791\n",
      "Epoch 103/120\n",
      "473/473 [==============================] - 81s 172ms/step - loss: 0.0037 - accuracy: 0.9997 - val_loss: 1.4138 - val_accuracy: 0.9800\n",
      "Epoch 104/120\n",
      "473/473 [==============================] - 82s 173ms/step - loss: 0.0016 - accuracy: 0.9996 - val_loss: 1.2167 - val_accuracy: 0.9804\n",
      "Epoch 105/120\n",
      "473/473 [==============================] - 82s 174ms/step - loss: 0.0038 - accuracy: 0.9995 - val_loss: 1.3174 - val_accuracy: 0.9796\n",
      "Epoch 106/120\n",
      "473/473 [==============================] - 85s 180ms/step - loss: 0.0018 - accuracy: 0.9997 - val_loss: 1.2727 - val_accuracy: 0.9809\n",
      "Epoch 107/120\n",
      "473/473 [==============================] - 84s 177ms/step - loss: 1.2504e-04 - accuracy: 0.9999 - val_loss: 1.2707 - val_accuracy: 0.9804\n",
      "Epoch 108/120\n",
      "473/473 [==============================] - 84s 177ms/step - loss: 0.0095 - accuracy: 0.9992 - val_loss: 1.9297 - val_accuracy: 0.9782\n",
      "Epoch 109/120\n",
      "473/473 [==============================] - 84s 177ms/step - loss: 0.0044 - accuracy: 0.9996 - val_loss: 2.5868 - val_accuracy: 0.9733\n",
      "Epoch 110/120\n",
      "473/473 [==============================] - 84s 177ms/step - loss: 0.0019 - accuracy: 0.9994 - val_loss: 1.8893 - val_accuracy: 0.9764\n",
      "Epoch 111/120\n",
      "473/473 [==============================] - 83s 176ms/step - loss: 0.0051 - accuracy: 0.9994 - val_loss: 2.5372 - val_accuracy: 0.9773\n",
      "Epoch 112/120\n",
      "473/473 [==============================] - 83s 176ms/step - loss: 0.0080 - accuracy: 0.9993 - val_loss: 3.0139 - val_accuracy: 0.9773\n",
      "Epoch 113/120\n",
      "473/473 [==============================] - 83s 176ms/step - loss: 0.0059 - accuracy: 0.9994 - val_loss: 2.7531 - val_accuracy: 0.9764\n",
      "Epoch 114/120\n",
      "473/473 [==============================] - 83s 175ms/step - loss: 9.5633e-04 - accuracy: 0.9999 - val_loss: 3.2531 - val_accuracy: 0.9769\n",
      "Epoch 115/120\n",
      "473/473 [==============================] - 83s 176ms/step - loss: 6.2172e-04 - accuracy: 0.9999 - val_loss: 2.7014 - val_accuracy: 0.9787\n",
      "Epoch 116/120\n",
      "473/473 [==============================] - 84s 177ms/step - loss: 2.5002e-05 - accuracy: 1.0000 - val_loss: 2.2031 - val_accuracy: 0.9787\n",
      "Epoch 117/120\n",
      "473/473 [==============================] - 83s 176ms/step - loss: 4.2595e-07 - accuracy: 1.0000 - val_loss: 2.2086 - val_accuracy: 0.9787\n",
      "Epoch 118/120\n",
      "473/473 [==============================] - 83s 176ms/step - loss: 1.2204e-06 - accuracy: 1.0000 - val_loss: 2.2139 - val_accuracy: 0.9787\n",
      "Epoch 119/120\n",
      "473/473 [==============================] - 83s 176ms/step - loss: 4.7425e-04 - accuracy: 0.9999 - val_loss: 3.2757 - val_accuracy: 0.9773\n",
      "Epoch 120/120\n",
      "473/473 [==============================] - 83s 176ms/step - loss: 0.0068 - accuracy: 0.9993 - val_loss: 2.8322 - val_accuracy: 0.9773\n"
     ]
    },
    {
     "data": {
      "text/plain": [
       "<keras.src.callbacks.History at 0x1dadf1bbb10>"
      ]
     },
     "execution_count": 10,
     "metadata": {},
     "output_type": "execute_result"
    }
   ],
   "source": [
    "# Fitting the Model Generator\n",
    "model.fit_generator(x_train,steps_per_epoch=len(x_train),epochs=120,validation_data=x_test,validation_steps=len(x_test))"
   ]
  },
  {
   "cell_type": "code",
   "execution_count": 16,
   "id": "ee2e4722",
   "metadata": {},
   "outputs": [],
   "source": [
    "model.save('asl_model.h5')\n"
   ]
  },
  {
   "cell_type": "code",
   "execution_count": null,
   "id": "89ad1e96",
   "metadata": {},
   "outputs": [],
   "source": []
  },
  {
   "cell_type": "code",
   "execution_count": null,
   "id": "6f36fc4b",
   "metadata": {},
   "outputs": [],
   "source": []
  },
  {
   "cell_type": "code",
   "execution_count": null,
   "id": "91f5ea8b",
   "metadata": {},
   "outputs": [],
   "source": []
  }
 ],
 "metadata": {
  "kernelspec": {
   "display_name": "Python 3 (ipykernel)",
   "language": "python",
   "name": "python3"
  },
  "language_info": {
   "codemirror_mode": {
    "name": "ipython",
    "version": 3
   },
   "file_extension": ".py",
   "mimetype": "text/x-python",
   "name": "python",
   "nbconvert_exporter": "python",
   "pygments_lexer": "ipython3",
   "version": "3.10.9"
  }
 },
 "nbformat": 4,
 "nbformat_minor": 5
}
